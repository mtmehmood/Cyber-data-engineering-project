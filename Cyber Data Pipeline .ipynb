{
 "cells": [
  {
   "cell_type": "code",
   "execution_count": 2,
   "id": "757ec7af-afd6-4847-99a3-8a6704b81dbe",
   "metadata": {
    "tags": []
   },
   "outputs": [
    {
     "name": "stdout",
     "output_type": "stream",
     "text": [
      "✅ Matching Records:\n",
      "     Name_Server1                     Email\n",
      "0  Hannah Johnson  hannah.johnson@cyber.net\n",
      "\n",
      "❌ Only in Server1:\n",
      "              Name                       Email\n",
      "0    Hannah Miller     hannah.miller@cyber.net\n",
      "1    Alice Johnson   alice.johnson@example.com\n",
      "2        Bob Smith         bob.smith@cyber.net\n",
      "3   Alice Williams  alice.williams@company.org\n",
      "4     George Jones    george.jones@company.org\n",
      "5      Alice Davis       alice.davis@cyber.net\n",
      "6     Edward Brown    edward.brown@company.org\n",
      "7      Alice Davis       alice.davis@cyber.net\n",
      "8      Fiona Jones     fiona.jones@example.com\n",
      "9    Charlie Smith   charlie.smith@company.org\n",
      "11    Diana Garcia    diana.garcia@company.org\n",
      "12    Edward Smith    edward.smith@company.org\n",
      "13    George Smith    george.smith@example.com\n",
      "14   George Miller   george.miller@company.org\n",
      "\n",
      "❌ Only in Server2:\n",
      "               Name                      Email\n",
      "0       Fiona Jones    fiona.jones@company.org\n",
      "1      Hannah Davis   hannah.davis@example.com\n",
      "2     George Garcia  george.garcia@example.com\n",
      "3      Hannah Jones     hannah.jones@cyber.net\n",
      "4    George Johnson   george.johnson@cyber.net\n",
      "5     Charlie Davis  charlie.davis@example.com\n",
      "6   George Williams  george.williams@cyber.net\n",
      "7     George Miller  george.miller@example.com\n",
      "8        Bob Garcia       bob.garcia@cyber.net\n",
      "9      George Smith   george.smith@company.org\n",
      "10     George Brown     george.brown@cyber.net\n",
      "11     Alice Garcia   alice.garcia@example.com\n",
      "12     Alice Miller   alice.miller@example.com\n",
      "14      Diana Jones    diana.jones@company.org\n"
     ]
    }
   ],
   "source": [
    "import pandas as pd\n",
    "\n",
    "# Step 1: Load the datasets\n",
    "server1_path = r\"C:\\Users\\tahir\\Documents\\Mine\\Mine New\\Jaat\\Jahanzeb\\server1_dataset.csv\"\n",
    "server2_path = r\"C:\\Users\\tahir\\Documents\\Mine\\Mine New\\Jaat\\Jahanzeb\\server2_dataset.csv\"\n",
    "\n",
    "df1 = pd.read_csv(server1_path)\n",
    "df2 = pd.read_csv(server2_path)\n",
    "\n",
    "# Step 2: Compare using email as the unique identifier\n",
    "key_column = 'Email'\n",
    "\n",
    "# Matching\n",
    "matching = pd.merge(df1, df2, on=key_column, suffixes=('_Server1', '_Server2'))\n",
    "\n",
    "# Records only in Server1\n",
    "only_in_server1 = df1[~df1[key_column].isin(df2[key_column])]\n",
    "\n",
    "# Records only in Server2\n",
    "only_in_server2 = df2[~df2[key_column].isin(df1[key_column])]\n",
    "\n",
    "# Step 3: Save the results (optional)\n",
    "matching.to_csv(\"matching_records.csv\", index=False)\n",
    "only_in_server1.to_csv(\"only_in_server1.csv\", index=False)\n",
    "only_in_server2.to_csv(\"only_in_server2.csv\", index=False)\n",
    "\n",
    "# Step 4: Print preview\n",
    "print(\"✅ Matching Records:\")\n",
    "print(matching[['Name_Server1', 'Email']])\n",
    "print(\"\\n❌ Only in Server1:\")\n",
    "print(only_in_server1[['Name', 'Email']])\n",
    "print(\"\\n❌ Only in Server2:\")\n",
    "print(only_in_server2[['Name', 'Email']])\n"
   ]
  },
  {
   "cell_type": "code",
   "execution_count": null,
   "id": "54f0571f-405c-4f20-8716-6dbf1ba9f18d",
   "metadata": {},
   "outputs": [],
   "source": []
  }
 ],
 "metadata": {
  "kernelspec": {
   "display_name": "Python [conda env:base] *",
   "language": "python",
   "name": "conda-base-py"
  },
  "language_info": {
   "codemirror_mode": {
    "name": "ipython",
    "version": 3
   },
   "file_extension": ".py",
   "mimetype": "text/x-python",
   "name": "python",
   "nbconvert_exporter": "python",
   "pygments_lexer": "ipython3",
   "version": "3.11.5"
  }
 },
 "nbformat": 4,
 "nbformat_minor": 5
}
